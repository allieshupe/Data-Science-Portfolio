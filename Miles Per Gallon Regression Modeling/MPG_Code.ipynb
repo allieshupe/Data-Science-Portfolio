{
 "cells": [
  {
   "cell_type": "markdown",
   "id": "d7c81cfb",
   "metadata": {},
   "source": [
    "# MPG Regression Modeling\n"
   ]
  },
  {
   "cell_type": "markdown",
   "id": "7fc449c4",
   "metadata": {},
   "source": [
    "### 1. Load the data as a Pandas data frame and ensure that it imported correctly."
   ]
  },
  {
   "cell_type": "code",
   "execution_count": 22,
   "id": "a8a7dcef",
   "metadata": {},
   "outputs": [
    {
     "data": {
      "text/html": [
       "<div>\n",
       "<style scoped>\n",
       "    .dataframe tbody tr th:only-of-type {\n",
       "        vertical-align: middle;\n",
       "    }\n",
       "\n",
       "    .dataframe tbody tr th {\n",
       "        vertical-align: top;\n",
       "    }\n",
       "\n",
       "    .dataframe thead th {\n",
       "        text-align: right;\n",
       "    }\n",
       "</style>\n",
       "<table border=\"1\" class=\"dataframe\">\n",
       "  <thead>\n",
       "    <tr style=\"text-align: right;\">\n",
       "      <th></th>\n",
       "      <th>mpg</th>\n",
       "      <th>cylinders</th>\n",
       "      <th>displacement</th>\n",
       "      <th>horsepower</th>\n",
       "      <th>weight</th>\n",
       "      <th>acceleration</th>\n",
       "      <th>model year</th>\n",
       "      <th>origin</th>\n",
       "      <th>car name</th>\n",
       "    </tr>\n",
       "  </thead>\n",
       "  <tbody>\n",
       "    <tr>\n",
       "      <th>0</th>\n",
       "      <td>18.0</td>\n",
       "      <td>8</td>\n",
       "      <td>307.0</td>\n",
       "      <td>130</td>\n",
       "      <td>3504</td>\n",
       "      <td>12.0</td>\n",
       "      <td>70</td>\n",
       "      <td>1</td>\n",
       "      <td>chevrolet chevelle malibu</td>\n",
       "    </tr>\n",
       "    <tr>\n",
       "      <th>1</th>\n",
       "      <td>15.0</td>\n",
       "      <td>8</td>\n",
       "      <td>350.0</td>\n",
       "      <td>165</td>\n",
       "      <td>3693</td>\n",
       "      <td>11.5</td>\n",
       "      <td>70</td>\n",
       "      <td>1</td>\n",
       "      <td>buick skylark 320</td>\n",
       "    </tr>\n",
       "    <tr>\n",
       "      <th>2</th>\n",
       "      <td>18.0</td>\n",
       "      <td>8</td>\n",
       "      <td>318.0</td>\n",
       "      <td>150</td>\n",
       "      <td>3436</td>\n",
       "      <td>11.0</td>\n",
       "      <td>70</td>\n",
       "      <td>1</td>\n",
       "      <td>plymouth satellite</td>\n",
       "    </tr>\n",
       "    <tr>\n",
       "      <th>3</th>\n",
       "      <td>16.0</td>\n",
       "      <td>8</td>\n",
       "      <td>304.0</td>\n",
       "      <td>150</td>\n",
       "      <td>3433</td>\n",
       "      <td>12.0</td>\n",
       "      <td>70</td>\n",
       "      <td>1</td>\n",
       "      <td>amc rebel sst</td>\n",
       "    </tr>\n",
       "    <tr>\n",
       "      <th>4</th>\n",
       "      <td>17.0</td>\n",
       "      <td>8</td>\n",
       "      <td>302.0</td>\n",
       "      <td>140</td>\n",
       "      <td>3449</td>\n",
       "      <td>10.5</td>\n",
       "      <td>70</td>\n",
       "      <td>1</td>\n",
       "      <td>ford torino</td>\n",
       "    </tr>\n",
       "  </tbody>\n",
       "</table>\n",
       "</div>"
      ],
      "text/plain": [
       "    mpg  cylinders  displacement horsepower  weight  acceleration  model year  \\\n",
       "0  18.0          8         307.0        130    3504          12.0          70   \n",
       "1  15.0          8         350.0        165    3693          11.5          70   \n",
       "2  18.0          8         318.0        150    3436          11.0          70   \n",
       "3  16.0          8         304.0        150    3433          12.0          70   \n",
       "4  17.0          8         302.0        140    3449          10.5          70   \n",
       "\n",
       "   origin                   car name  \n",
       "0       1  chevrolet chevelle malibu  \n",
       "1       1          buick skylark 320  \n",
       "2       1         plymouth satellite  \n",
       "3       1              amc rebel sst  \n",
       "4       1                ford torino  "
      ]
     },
     "execution_count": 22,
     "metadata": {},
     "output_type": "execute_result"
    }
   ],
   "source": [
    "# import the pandas library\n",
    "import pandas as pd\n",
    "\n",
    "# import the data\n",
    "auto_df = pd.read_csv('auto-mpg.csv')\n",
    "\n",
    "# display the first few rows to ensure the data imported correctly\n",
    "auto_df.head()"
   ]
  },
  {
   "cell_type": "markdown",
   "id": "7a03cd28",
   "metadata": {},
   "source": [
    "### 2. Begin by prepping the data for modeling:"
   ]
  },
  {
   "cell_type": "code",
   "execution_count": 23,
   "id": "ea30e943",
   "metadata": {},
   "outputs": [
    {
     "data": {
      "text/html": [
       "<div>\n",
       "<style scoped>\n",
       "    .dataframe tbody tr th:only-of-type {\n",
       "        vertical-align: middle;\n",
       "    }\n",
       "\n",
       "    .dataframe tbody tr th {\n",
       "        vertical-align: top;\n",
       "    }\n",
       "\n",
       "    .dataframe thead th {\n",
       "        text-align: right;\n",
       "    }\n",
       "</style>\n",
       "<table border=\"1\" class=\"dataframe\">\n",
       "  <thead>\n",
       "    <tr style=\"text-align: right;\">\n",
       "      <th></th>\n",
       "      <th>mpg</th>\n",
       "      <th>cylinders</th>\n",
       "      <th>displacement</th>\n",
       "      <th>horsepower</th>\n",
       "      <th>weight</th>\n",
       "      <th>acceleration</th>\n",
       "      <th>model year</th>\n",
       "      <th>origin</th>\n",
       "    </tr>\n",
       "  </thead>\n",
       "  <tbody>\n",
       "    <tr>\n",
       "      <th>0</th>\n",
       "      <td>18.0</td>\n",
       "      <td>8</td>\n",
       "      <td>307.0</td>\n",
       "      <td>130</td>\n",
       "      <td>3504</td>\n",
       "      <td>12.0</td>\n",
       "      <td>70</td>\n",
       "      <td>1</td>\n",
       "    </tr>\n",
       "    <tr>\n",
       "      <th>1</th>\n",
       "      <td>15.0</td>\n",
       "      <td>8</td>\n",
       "      <td>350.0</td>\n",
       "      <td>165</td>\n",
       "      <td>3693</td>\n",
       "      <td>11.5</td>\n",
       "      <td>70</td>\n",
       "      <td>1</td>\n",
       "    </tr>\n",
       "    <tr>\n",
       "      <th>2</th>\n",
       "      <td>18.0</td>\n",
       "      <td>8</td>\n",
       "      <td>318.0</td>\n",
       "      <td>150</td>\n",
       "      <td>3436</td>\n",
       "      <td>11.0</td>\n",
       "      <td>70</td>\n",
       "      <td>1</td>\n",
       "    </tr>\n",
       "    <tr>\n",
       "      <th>3</th>\n",
       "      <td>16.0</td>\n",
       "      <td>8</td>\n",
       "      <td>304.0</td>\n",
       "      <td>150</td>\n",
       "      <td>3433</td>\n",
       "      <td>12.0</td>\n",
       "      <td>70</td>\n",
       "      <td>1</td>\n",
       "    </tr>\n",
       "    <tr>\n",
       "      <th>4</th>\n",
       "      <td>17.0</td>\n",
       "      <td>8</td>\n",
       "      <td>302.0</td>\n",
       "      <td>140</td>\n",
       "      <td>3449</td>\n",
       "      <td>10.5</td>\n",
       "      <td>70</td>\n",
       "      <td>1</td>\n",
       "    </tr>\n",
       "  </tbody>\n",
       "</table>\n",
       "</div>"
      ],
      "text/plain": [
       "    mpg  cylinders  displacement horsepower  weight  acceleration  model year  \\\n",
       "0  18.0          8         307.0        130    3504          12.0          70   \n",
       "1  15.0          8         350.0        165    3693          11.5          70   \n",
       "2  18.0          8         318.0        150    3436          11.0          70   \n",
       "3  16.0          8         304.0        150    3433          12.0          70   \n",
       "4  17.0          8         302.0        140    3449          10.5          70   \n",
       "\n",
       "   origin  \n",
       "0       1  \n",
       "1       1  \n",
       "2       1  \n",
       "3       1  \n",
       "4       1  "
      ]
     },
     "execution_count": 23,
     "metadata": {},
     "output_type": "execute_result"
    }
   ],
   "source": [
    "# Remove the car name column\n",
    "auto_df = auto_df.drop('car name', axis = 1)\n",
    "\n",
    "# display the dataframe\n",
    "auto_df.head()"
   ]
  },
  {
   "cell_type": "code",
   "execution_count": 24,
   "id": "8d3ae7f9",
   "metadata": {},
   "outputs": [
    {
     "data": {
      "text/plain": [
       "mpg             float64\n",
       "cylinders         int64\n",
       "displacement    float64\n",
       "horsepower       object\n",
       "weight            int64\n",
       "acceleration    float64\n",
       "model year        int64\n",
       "origin            int64\n",
       "dtype: object"
      ]
     },
     "execution_count": 24,
     "metadata": {},
     "output_type": "execute_result"
    }
   ],
   "source": [
    "# The horsepower column values likely imported as a string data type. \n",
    "# Figure out why and replace any strings with the column mean.\n",
    "\n",
    "# check the horsepower columns data type\n",
    "auto_df.dtypes"
   ]
  },
  {
   "cell_type": "markdown",
   "id": "dcba1a56",
   "metadata": {},
   "source": [
    "The horsepower column has been imported as a string data type. This is likely due to some non-numerical value(s) in the column. We can display the unique values in that column to see what needs to be replaced."
   ]
  },
  {
   "cell_type": "code",
   "execution_count": 25,
   "id": "0a50269c",
   "metadata": {},
   "outputs": [
    {
     "data": {
      "text/plain": [
       "array(['130', '165', '150', '140', '198', '220', '215', '225', '190',\n",
       "       '170', '160', '95', '97', '85', '88', '46', '87', '90', '113',\n",
       "       '200', '210', '193', '?', '100', '105', '175', '153', '180', '110',\n",
       "       '72', '86', '70', '76', '65', '69', '60', '80', '54', '208', '155',\n",
       "       '112', '92', '145', '137', '158', '167', '94', '107', '230', '49',\n",
       "       '75', '91', '122', '67', '83', '78', '52', '61', '93', '148',\n",
       "       '129', '96', '71', '98', '115', '53', '81', '79', '120', '152',\n",
       "       '102', '108', '68', '58', '149', '89', '63', '48', '66', '139',\n",
       "       '103', '125', '133', '138', '135', '142', '77', '62', '132', '84',\n",
       "       '64', '74', '116', '82'], dtype=object)"
      ]
     },
     "execution_count": 25,
     "metadata": {},
     "output_type": "execute_result"
    }
   ],
   "source": [
    "# display unique values in the horsepower column\n",
    "auto_df.horsepower.unique()"
   ]
  },
  {
   "cell_type": "markdown",
   "id": "f261b00b",
   "metadata": {},
   "source": [
    "We can see there is at least one instance of a \"?\" in the column. We will replace that with the column mean."
   ]
  },
  {
   "cell_type": "code",
   "execution_count": 26,
   "id": "7b7343b0",
   "metadata": {},
   "outputs": [
    {
     "data": {
      "text/plain": [
       "array(['130', '165', '150', '140', '198', '220', '215', '225', '190',\n",
       "       '170', '160', '95', '97', '85', '88', '46', '87', '90', '113',\n",
       "       '200', '210', '193', 104.46938775510205, '100', '105', '175',\n",
       "       '153', '180', '110', '72', '86', '70', '76', '65', '69', '60',\n",
       "       '80', '54', '208', '155', '112', '92', '145', '137', '158', '167',\n",
       "       '94', '107', '230', '49', '75', '91', '122', '67', '83', '78',\n",
       "       '52', '61', '93', '148', '129', '96', '71', '98', '115', '53',\n",
       "       '81', '79', '120', '152', '102', '108', '68', '58', '149', '89',\n",
       "       '63', '48', '66', '139', '103', '125', '133', '138', '135', '142',\n",
       "       '77', '62', '132', '84', '64', '74', '116', '82'], dtype=object)"
      ]
     },
     "execution_count": 26,
     "metadata": {},
     "output_type": "execute_result"
    }
   ],
   "source": [
    "# replace \"?\" with the column mean\n",
    "import numpy as np\n",
    "auto_df['horsepower'] = auto_df['horsepower'].replace('?', np.mean(pd.to_numeric(auto_df['horsepower'], errors='coerce')))\n",
    "\n",
    "# display unique values in the horsepower column\n",
    "auto_df.horsepower.unique()"
   ]
  },
  {
   "cell_type": "code",
   "execution_count": 27,
   "id": "1b9c97fe",
   "metadata": {},
   "outputs": [
    {
     "data": {
      "text/plain": [
       "mpg             float64\n",
       "cylinders         int64\n",
       "displacement    float64\n",
       "horsepower      float64\n",
       "weight            int64\n",
       "acceleration    float64\n",
       "model year        int64\n",
       "origin            int64\n",
       "dtype: object"
      ]
     },
     "execution_count": 27,
     "metadata": {},
     "output_type": "execute_result"
    }
   ],
   "source": [
    "# change the horsepower column to a numeric data type\n",
    "auto_df['horsepower'] = pd.to_numeric(auto_df['horsepower'], errors='coerce')\n",
    "\n",
    "# check the horsepower columns data type\n",
    "auto_df.dtypes"
   ]
  },
  {
   "cell_type": "code",
   "execution_count": 28,
   "id": "218d656f",
   "metadata": {},
   "outputs": [
    {
     "data": {
      "text/html": [
       "<div>\n",
       "<style scoped>\n",
       "    .dataframe tbody tr th:only-of-type {\n",
       "        vertical-align: middle;\n",
       "    }\n",
       "\n",
       "    .dataframe tbody tr th {\n",
       "        vertical-align: top;\n",
       "    }\n",
       "\n",
       "    .dataframe thead th {\n",
       "        text-align: right;\n",
       "    }\n",
       "</style>\n",
       "<table border=\"1\" class=\"dataframe\">\n",
       "  <thead>\n",
       "    <tr style=\"text-align: right;\">\n",
       "      <th></th>\n",
       "      <th>mpg</th>\n",
       "      <th>cylinders</th>\n",
       "      <th>displacement</th>\n",
       "      <th>horsepower</th>\n",
       "      <th>weight</th>\n",
       "      <th>acceleration</th>\n",
       "      <th>model year</th>\n",
       "      <th>1</th>\n",
       "      <th>2</th>\n",
       "      <th>3</th>\n",
       "    </tr>\n",
       "  </thead>\n",
       "  <tbody>\n",
       "    <tr>\n",
       "      <th>0</th>\n",
       "      <td>18.0</td>\n",
       "      <td>8</td>\n",
       "      <td>307.0</td>\n",
       "      <td>130.0</td>\n",
       "      <td>3504</td>\n",
       "      <td>12.0</td>\n",
       "      <td>70</td>\n",
       "      <td>1</td>\n",
       "      <td>0</td>\n",
       "      <td>0</td>\n",
       "    </tr>\n",
       "    <tr>\n",
       "      <th>1</th>\n",
       "      <td>15.0</td>\n",
       "      <td>8</td>\n",
       "      <td>350.0</td>\n",
       "      <td>165.0</td>\n",
       "      <td>3693</td>\n",
       "      <td>11.5</td>\n",
       "      <td>70</td>\n",
       "      <td>1</td>\n",
       "      <td>0</td>\n",
       "      <td>0</td>\n",
       "    </tr>\n",
       "    <tr>\n",
       "      <th>2</th>\n",
       "      <td>18.0</td>\n",
       "      <td>8</td>\n",
       "      <td>318.0</td>\n",
       "      <td>150.0</td>\n",
       "      <td>3436</td>\n",
       "      <td>11.0</td>\n",
       "      <td>70</td>\n",
       "      <td>1</td>\n",
       "      <td>0</td>\n",
       "      <td>0</td>\n",
       "    </tr>\n",
       "    <tr>\n",
       "      <th>3</th>\n",
       "      <td>16.0</td>\n",
       "      <td>8</td>\n",
       "      <td>304.0</td>\n",
       "      <td>150.0</td>\n",
       "      <td>3433</td>\n",
       "      <td>12.0</td>\n",
       "      <td>70</td>\n",
       "      <td>1</td>\n",
       "      <td>0</td>\n",
       "      <td>0</td>\n",
       "    </tr>\n",
       "    <tr>\n",
       "      <th>4</th>\n",
       "      <td>17.0</td>\n",
       "      <td>8</td>\n",
       "      <td>302.0</td>\n",
       "      <td>140.0</td>\n",
       "      <td>3449</td>\n",
       "      <td>10.5</td>\n",
       "      <td>70</td>\n",
       "      <td>1</td>\n",
       "      <td>0</td>\n",
       "      <td>0</td>\n",
       "    </tr>\n",
       "  </tbody>\n",
       "</table>\n",
       "</div>"
      ],
      "text/plain": [
       "    mpg  cylinders  displacement  horsepower  weight  acceleration  \\\n",
       "0  18.0          8         307.0       130.0    3504          12.0   \n",
       "1  15.0          8         350.0       165.0    3693          11.5   \n",
       "2  18.0          8         318.0       150.0    3436          11.0   \n",
       "3  16.0          8         304.0       150.0    3433          12.0   \n",
       "4  17.0          8         302.0       140.0    3449          10.5   \n",
       "\n",
       "   model year  1  2  3  \n",
       "0          70  1  0  0  \n",
       "1          70  1  0  0  \n",
       "2          70  1  0  0  \n",
       "3          70  1  0  0  \n",
       "4          70  1  0  0  "
      ]
     },
     "execution_count": 28,
     "metadata": {},
     "output_type": "execute_result"
    }
   ],
   "source": [
    "# Create dummy variables for the origin column.\n",
    "auto_df = pd.concat([auto_df, pd.get_dummies(auto_df['origin'])], axis = 1)\n",
    "\n",
    "# Drop the origin column\n",
    "auto_df = auto_df.drop('origin', axis = 1)\n",
    "\n",
    "# display dataframe\n",
    "auto_df.head()"
   ]
  },
  {
   "cell_type": "markdown",
   "id": "0c6a2c77",
   "metadata": {},
   "source": [
    "### 3. Create a correlation coefficient matrix and/or visualization. Are there features highly correlated with mpg?"
   ]
  },
  {
   "cell_type": "code",
   "execution_count": 29,
   "id": "77e7dbdc",
   "metadata": {},
   "outputs": [
    {
     "data": {
      "text/html": [
       "<div>\n",
       "<style scoped>\n",
       "    .dataframe tbody tr th:only-of-type {\n",
       "        vertical-align: middle;\n",
       "    }\n",
       "\n",
       "    .dataframe tbody tr th {\n",
       "        vertical-align: top;\n",
       "    }\n",
       "\n",
       "    .dataframe thead th {\n",
       "        text-align: right;\n",
       "    }\n",
       "</style>\n",
       "<table border=\"1\" class=\"dataframe\">\n",
       "  <thead>\n",
       "    <tr style=\"text-align: right;\">\n",
       "      <th></th>\n",
       "      <th>mpg</th>\n",
       "      <th>cylinders</th>\n",
       "      <th>displacement</th>\n",
       "      <th>horsepower</th>\n",
       "      <th>weight</th>\n",
       "      <th>acceleration</th>\n",
       "      <th>model year</th>\n",
       "      <th>1</th>\n",
       "      <th>2</th>\n",
       "      <th>3</th>\n",
       "    </tr>\n",
       "  </thead>\n",
       "  <tbody>\n",
       "    <tr>\n",
       "      <th>mpg</th>\n",
       "      <td>1.000000</td>\n",
       "      <td>-0.775396</td>\n",
       "      <td>-0.804203</td>\n",
       "      <td>-0.771437</td>\n",
       "      <td>-0.831741</td>\n",
       "      <td>0.420289</td>\n",
       "      <td>0.579267</td>\n",
       "      <td>-0.568192</td>\n",
       "      <td>0.259022</td>\n",
       "      <td>0.442174</td>\n",
       "    </tr>\n",
       "    <tr>\n",
       "      <th>cylinders</th>\n",
       "      <td>-0.775396</td>\n",
       "      <td>1.000000</td>\n",
       "      <td>0.950721</td>\n",
       "      <td>0.838939</td>\n",
       "      <td>0.896017</td>\n",
       "      <td>-0.505419</td>\n",
       "      <td>-0.348746</td>\n",
       "      <td>0.604351</td>\n",
       "      <td>-0.352861</td>\n",
       "      <td>-0.396479</td>\n",
       "    </tr>\n",
       "    <tr>\n",
       "      <th>displacement</th>\n",
       "      <td>-0.804203</td>\n",
       "      <td>0.950721</td>\n",
       "      <td>1.000000</td>\n",
       "      <td>0.893646</td>\n",
       "      <td>0.932824</td>\n",
       "      <td>-0.543684</td>\n",
       "      <td>-0.370164</td>\n",
       "      <td>0.651407</td>\n",
       "      <td>-0.373886</td>\n",
       "      <td>-0.433505</td>\n",
       "    </tr>\n",
       "    <tr>\n",
       "      <th>horsepower</th>\n",
       "      <td>-0.771437</td>\n",
       "      <td>0.838939</td>\n",
       "      <td>0.893646</td>\n",
       "      <td>1.000000</td>\n",
       "      <td>0.860574</td>\n",
       "      <td>-0.684259</td>\n",
       "      <td>-0.411651</td>\n",
       "      <td>0.486083</td>\n",
       "      <td>-0.281258</td>\n",
       "      <td>-0.321325</td>\n",
       "    </tr>\n",
       "    <tr>\n",
       "      <th>weight</th>\n",
       "      <td>-0.831741</td>\n",
       "      <td>0.896017</td>\n",
       "      <td>0.932824</td>\n",
       "      <td>0.860574</td>\n",
       "      <td>1.000000</td>\n",
       "      <td>-0.417457</td>\n",
       "      <td>-0.306564</td>\n",
       "      <td>0.598398</td>\n",
       "      <td>-0.298843</td>\n",
       "      <td>-0.440817</td>\n",
       "    </tr>\n",
       "    <tr>\n",
       "      <th>acceleration</th>\n",
       "      <td>0.420289</td>\n",
       "      <td>-0.505419</td>\n",
       "      <td>-0.543684</td>\n",
       "      <td>-0.684259</td>\n",
       "      <td>-0.417457</td>\n",
       "      <td>1.000000</td>\n",
       "      <td>0.288137</td>\n",
       "      <td>-0.250806</td>\n",
       "      <td>0.204473</td>\n",
       "      <td>0.109144</td>\n",
       "    </tr>\n",
       "    <tr>\n",
       "      <th>model year</th>\n",
       "      <td>0.579267</td>\n",
       "      <td>-0.348746</td>\n",
       "      <td>-0.370164</td>\n",
       "      <td>-0.411651</td>\n",
       "      <td>-0.306564</td>\n",
       "      <td>0.288137</td>\n",
       "      <td>1.000000</td>\n",
       "      <td>-0.139883</td>\n",
       "      <td>-0.024489</td>\n",
       "      <td>0.193101</td>\n",
       "    </tr>\n",
       "    <tr>\n",
       "      <th>1</th>\n",
       "      <td>-0.568192</td>\n",
       "      <td>0.604351</td>\n",
       "      <td>0.651407</td>\n",
       "      <td>0.486083</td>\n",
       "      <td>0.598398</td>\n",
       "      <td>-0.250806</td>\n",
       "      <td>-0.139883</td>\n",
       "      <td>1.000000</td>\n",
       "      <td>-0.597198</td>\n",
       "      <td>-0.643317</td>\n",
       "    </tr>\n",
       "    <tr>\n",
       "      <th>2</th>\n",
       "      <td>0.259022</td>\n",
       "      <td>-0.352861</td>\n",
       "      <td>-0.373886</td>\n",
       "      <td>-0.281258</td>\n",
       "      <td>-0.298843</td>\n",
       "      <td>0.204473</td>\n",
       "      <td>-0.024489</td>\n",
       "      <td>-0.597198</td>\n",
       "      <td>1.000000</td>\n",
       "      <td>-0.229895</td>\n",
       "    </tr>\n",
       "    <tr>\n",
       "      <th>3</th>\n",
       "      <td>0.442174</td>\n",
       "      <td>-0.396479</td>\n",
       "      <td>-0.433505</td>\n",
       "      <td>-0.321325</td>\n",
       "      <td>-0.440817</td>\n",
       "      <td>0.109144</td>\n",
       "      <td>0.193101</td>\n",
       "      <td>-0.643317</td>\n",
       "      <td>-0.229895</td>\n",
       "      <td>1.000000</td>\n",
       "    </tr>\n",
       "  </tbody>\n",
       "</table>\n",
       "</div>"
      ],
      "text/plain": [
       "                   mpg  cylinders  displacement  horsepower    weight  \\\n",
       "mpg           1.000000  -0.775396     -0.804203   -0.771437 -0.831741   \n",
       "cylinders    -0.775396   1.000000      0.950721    0.838939  0.896017   \n",
       "displacement -0.804203   0.950721      1.000000    0.893646  0.932824   \n",
       "horsepower   -0.771437   0.838939      0.893646    1.000000  0.860574   \n",
       "weight       -0.831741   0.896017      0.932824    0.860574  1.000000   \n",
       "acceleration  0.420289  -0.505419     -0.543684   -0.684259 -0.417457   \n",
       "model year    0.579267  -0.348746     -0.370164   -0.411651 -0.306564   \n",
       "1            -0.568192   0.604351      0.651407    0.486083  0.598398   \n",
       "2             0.259022  -0.352861     -0.373886   -0.281258 -0.298843   \n",
       "3             0.442174  -0.396479     -0.433505   -0.321325 -0.440817   \n",
       "\n",
       "              acceleration  model year         1         2         3  \n",
       "mpg               0.420289    0.579267 -0.568192  0.259022  0.442174  \n",
       "cylinders        -0.505419   -0.348746  0.604351 -0.352861 -0.396479  \n",
       "displacement     -0.543684   -0.370164  0.651407 -0.373886 -0.433505  \n",
       "horsepower       -0.684259   -0.411651  0.486083 -0.281258 -0.321325  \n",
       "weight           -0.417457   -0.306564  0.598398 -0.298843 -0.440817  \n",
       "acceleration      1.000000    0.288137 -0.250806  0.204473  0.109144  \n",
       "model year        0.288137    1.000000 -0.139883 -0.024489  0.193101  \n",
       "1                -0.250806   -0.139883  1.000000 -0.597198 -0.643317  \n",
       "2                 0.204473   -0.024489 -0.597198  1.000000 -0.229895  \n",
       "3                 0.109144    0.193101 -0.643317 -0.229895  1.000000  "
      ]
     },
     "execution_count": 29,
     "metadata": {},
     "output_type": "execute_result"
    }
   ],
   "source": [
    "# create a correlation matrix\n",
    "corr_matrix = auto_df.corr()\n",
    "corr_matrix"
   ]
  },
  {
   "cell_type": "markdown",
   "id": "1b9057fe",
   "metadata": {},
   "source": [
    "Cylinders, displacement, horsepower, and weight are all highly negatively correlated with mpg."
   ]
  },
  {
   "cell_type": "markdown",
   "id": "8a5942a0",
   "metadata": {},
   "source": [
    "### 4. Plot mpg versus weight. Analyze this graph and explain how it relates to the corresponding correlation coefficient."
   ]
  },
  {
   "cell_type": "code",
   "execution_count": 30,
   "id": "703a300d",
   "metadata": {},
   "outputs": [
    {
     "data": {
      "image/png": "[encoded data removed]",
      "text/plain": [
       "<Figure size 640x480 with 1 Axes>"
      ]
     },
     "metadata": {},
     "output_type": "display_data"
    }
   ],
   "source": [
    "# create scatterplot of mpg versus weight\n",
    "\n",
    "import matplotlib.pyplot as plt\n",
    "\n",
    "plt.scatter(auto_df['mpg'], auto_df['weight'])\n",
    "plt.xlabel('mpg')\n",
    "plt.ylabel('weight')\n",
    "plt.show()"
   ]
  },
  {
   "cell_type": "markdown",
   "id": "fcfb0e9a",
   "metadata": {},
   "source": [
    "As shown in the plot above, mpg is negatively correlated with weight. In other words, as the weight increases, the mpg decreases. This can be seen in the correlation matrix from the last part. Mpg and weight are shown to have a -0.83 correlation coefficient which indicates a strong negative correlation."
   ]
  },
  {
   "cell_type": "markdown",
   "id": "c82d762e",
   "metadata": {},
   "source": [
    "### 5. Randomly split the data into 80% training data and 20% test data, where your target is mpg."
   ]
  },
  {
   "cell_type": "code",
   "execution_count": 31,
   "id": "6058248e",
   "metadata": {},
   "outputs": [],
   "source": [
    "# since mpg is the target variable, we will split that column from the rest of the data\n",
    "x = auto_df.drop('mpg', axis=1)\n",
    "y = auto_df['mpg']"
   ]
  },
  {
   "cell_type": "code",
   "execution_count": 32,
   "id": "bc7ccab6",
   "metadata": {},
   "outputs": [],
   "source": [
    "# import the library\n",
    "from sklearn.model_selection import train_test_split\n",
    "\n",
    "# split the data\n",
    "x_train,x_test,y_train,y_test=train_test_split(x,y,test_size=0.2)"
   ]
  },
  {
   "cell_type": "code",
   "execution_count": 33,
   "id": "6c35942f",
   "metadata": {},
   "outputs": [
    {
     "name": "stdout",
     "output_type": "stream",
     "text": [
      "input training set:  (318, 9)\n",
      "output training set:  (318,)\n",
      "input testing set:  (80, 9)\n",
      "output testing set:  (80,)\n",
      "original data set:  (398, 10)\n"
     ]
    }
   ],
   "source": [
    "# verify that the training and test data sets contain the correct number of data points\n",
    "print(\"input training set: \", x_train.shape)\n",
    "print(\"output training set: \", y_train.shape)\n",
    "print(\"input testing set: \", x_test.shape)\n",
    "print(\"output testing set: \", y_test.shape)\n",
    "print(\"original data set: \", auto_df.shape)"
   ]
  },
  {
   "cell_type": "markdown",
   "id": "1f37b1e4",
   "metadata": {},
   "source": [
    "### 6. Train an ordinary linear regression on the training data."
   ]
  },
  {
   "cell_type": "code",
   "execution_count": 34,
   "id": "ae42c2bb",
   "metadata": {},
   "outputs": [
    {
     "data": {
      "text/html": [
       "<style>#sk-container-id-2 {color: black;}#sk-container-id-2 pre{padding: 0;}#sk-container-id-2 div.sk-toggleable {background-color: white;}#sk-container-id-2 label.sk-toggleable__label {cursor: pointer;display: block;width: 100%;margin-bottom: 0;padding: 0.3em;box-sizing: border-box;text-align: center;}#sk-container-id-2 label.sk-toggleable__label-arrow:before {content: \"▸\";float: left;margin-right: 0.25em;color: #696969;}#sk-container-id-2 label.sk-toggleable__label-arrow:hover:before {color: black;}#sk-container-id-2 div.sk-estimator:hover label.sk-toggleable__label-arrow:before {color: black;}#sk-container-id-2 div.sk-toggleable__content {max-height: 0;max-width: 0;overflow: hidden;text-align: left;background-color: #f0f8ff;}#sk-container-id-2 div.sk-toggleable__content pre {margin: 0.2em;color: black;border-radius: 0.25em;background-color: #f0f8ff;}#sk-container-id-2 input.sk-toggleable__control:checked~div.sk-toggleable__content {max-height: 200px;max-width: 100%;overflow: auto;}#sk-container-id-2 input.sk-toggleable__control:checked~label.sk-toggleable__label-arrow:before {content: \"▾\";}#sk-container-id-2 div.sk-estimator input.sk-toggleable__control:checked~label.sk-toggleable__label {background-color: #d4ebff;}#sk-container-id-2 div.sk-label input.sk-toggleable__control:checked~label.sk-toggleable__label {background-color: #d4ebff;}#sk-container-id-2 input.sk-hidden--visually {border: 0;clip: rect(1px 1px 1px 1px);clip: rect(1px, 1px, 1px, 1px);height: 1px;margin: -1px;overflow: hidden;padding: 0;position: absolute;width: 1px;}#sk-container-id-2 div.sk-estimator {font-family: monospace;background-color: #f0f8ff;border: 1px dotted black;border-radius: 0.25em;box-sizing: border-box;margin-bottom: 0.5em;}#sk-container-id-2 div.sk-estimator:hover {background-color: #d4ebff;}#sk-container-id-2 div.sk-parallel-item::after {content: \"\";width: 100%;border-bottom: 1px solid gray;flex-grow: 1;}#sk-container-id-2 div.sk-label:hover label.sk-toggleable__label {background-color: #d4ebff;}#sk-container-id-2 div.sk-serial::before {content: \"\";position: absolute;border-left: 1px solid gray;box-sizing: border-box;top: 0;bottom: 0;left: 50%;z-index: 0;}#sk-container-id-2 div.sk-serial {display: flex;flex-direction: column;align-items: center;background-color: white;padding-right: 0.2em;padding-left: 0.2em;position: relative;}#sk-container-id-2 div.sk-item {position: relative;z-index: 1;}#sk-container-id-2 div.sk-parallel {display: flex;align-items: stretch;justify-content: center;background-color: white;position: relative;}#sk-container-id-2 div.sk-item::before, #sk-container-id-2 div.sk-parallel-item::before {content: \"\";position: absolute;border-left: 1px solid gray;box-sizing: border-box;top: 0;bottom: 0;left: 50%;z-index: -1;}#sk-container-id-2 div.sk-parallel-item {display: flex;flex-direction: column;z-index: 1;position: relative;background-color: white;}#sk-container-id-2 div.sk-parallel-item:first-child::after {align-self: flex-end;width: 50%;}#sk-container-id-2 div.sk-parallel-item:last-child::after {align-self: flex-start;width: 50%;}#sk-container-id-2 div.sk-parallel-item:only-child::after {width: 0;}#sk-container-id-2 div.sk-dashed-wrapped {border: 1px dashed gray;margin: 0 0.4em 0.5em 0.4em;box-sizing: border-box;padding-bottom: 0.4em;background-color: white;}#sk-container-id-2 div.sk-label label {font-family: monospace;font-weight: bold;display: inline-block;line-height: 1.2em;}#sk-container-id-2 div.sk-label-container {text-align: center;}#sk-container-id-2 div.sk-container {/* jupyter's `normalize.less` sets `[hidden] { display: none; }` but bootstrap.min.css set `[hidden] { display: none !important; }` so we also need the `!important` here to be able to override the default hidden behavior on the sphinx rendered scikit-learn.org. See: https://github.com/scikit-learn/scikit-learn/issues/21755 */display: inline-block !important;position: relative;}#sk-container-id-2 div.sk-text-repr-fallback {display: none;}</style><div id=\"sk-container-id-2\" class=\"sk-top-container\"><div class=\"sk-text-repr-fallback\"><pre>LinearRegression()</pre><b>In a Jupyter environment, please rerun this cell to show the HTML representation or trust the notebook. <br />On GitHub, the HTML representation is unable to render, please try loading this page with nbviewer.org.</b></div><div class=\"sk-container\" hidden><div class=\"sk-item\"><div class=\"sk-estimator sk-toggleable\"><input class=\"sk-toggleable__control sk-hidden--visually\" id=\"sk-estimator-id-2\" type=\"checkbox\" checked><label for=\"sk-estimator-id-2\" class=\"sk-toggleable__label sk-toggleable__label-arrow\">LinearRegression</label><div class=\"sk-toggleable__content\"><pre>LinearRegression()</pre></div></div></div></div></div>"
      ],
      "text/plain": [
       "LinearRegression()"
      ]
     },
     "execution_count": 34,
     "metadata": {},
     "output_type": "execute_result"
    }
   ],
   "source": [
    "# import the library\n",
    "from sklearn.linear_model import LinearRegression\n",
    "\n",
    "# convert column names to strings\n",
    "x_train.columns = x_train.columns.astype(str)\n",
    "\n",
    "# create the linear model\n",
    "linear_model = LinearRegression()\n",
    "\n",
    "# train the model using the training data\n",
    "linear_model.fit(x_train, y_train)"
   ]
  },
  {
   "cell_type": "code",
   "execution_count": 35,
   "id": "1fb5cdb7",
   "metadata": {},
   "outputs": [
    {
     "data": {
      "text/html": [
       "<div>\n",
       "<style scoped>\n",
       "    .dataframe tbody tr th:only-of-type {\n",
       "        vertical-align: middle;\n",
       "    }\n",
       "\n",
       "    .dataframe tbody tr th {\n",
       "        vertical-align: top;\n",
       "    }\n",
       "\n",
       "    .dataframe thead th {\n",
       "        text-align: right;\n",
       "    }\n",
       "</style>\n",
       "<table border=\"1\" class=\"dataframe\">\n",
       "  <thead>\n",
       "    <tr style=\"text-align: right;\">\n",
       "      <th></th>\n",
       "      <th>Coeff</th>\n",
       "    </tr>\n",
       "  </thead>\n",
       "  <tbody>\n",
       "    <tr>\n",
       "      <th>cylinders</th>\n",
       "      <td>-0.331880</td>\n",
       "    </tr>\n",
       "    <tr>\n",
       "      <th>displacement</th>\n",
       "      <td>0.016488</td>\n",
       "    </tr>\n",
       "    <tr>\n",
       "      <th>horsepower</th>\n",
       "      <td>-0.020538</td>\n",
       "    </tr>\n",
       "    <tr>\n",
       "      <th>weight</th>\n",
       "      <td>-0.006222</td>\n",
       "    </tr>\n",
       "    <tr>\n",
       "      <th>acceleration</th>\n",
       "      <td>-0.035295</td>\n",
       "    </tr>\n",
       "    <tr>\n",
       "      <th>model year</th>\n",
       "      <td>0.766048</td>\n",
       "    </tr>\n",
       "    <tr>\n",
       "      <th>1</th>\n",
       "      <td>-1.686293</td>\n",
       "    </tr>\n",
       "    <tr>\n",
       "      <th>2</th>\n",
       "      <td>0.814388</td>\n",
       "    </tr>\n",
       "    <tr>\n",
       "      <th>3</th>\n",
       "      <td>0.871906</td>\n",
       "    </tr>\n",
       "  </tbody>\n",
       "</table>\n",
       "</div>"
      ],
      "text/plain": [
       "                 Coeff\n",
       "cylinders    -0.331880\n",
       "displacement  0.016488\n",
       "horsepower   -0.020538\n",
       "weight       -0.006222\n",
       "acceleration -0.035295\n",
       "model year    0.766048\n",
       "1            -1.686293\n",
       "2             0.814388\n",
       "3             0.871906"
      ]
     },
     "execution_count": 35,
     "metadata": {},
     "output_type": "execute_result"
    }
   ],
   "source": [
    "# Print the linear regression coefficients\n",
    "pd.DataFrame(linear_model.coef_, x_train.columns, columns = ['Coeff'])"
   ]
  },
  {
   "cell_type": "markdown",
   "id": "7d6cd7d2",
   "metadata": {},
   "source": [
    "### 7. Calculate R2, RMSE, and MAE on both the training and test sets and interpret your results."
   ]
  },
  {
   "cell_type": "code",
   "execution_count": 54,
   "id": "756aa2ec",
   "metadata": {},
   "outputs": [],
   "source": [
    "# import the libraries\n",
    "from sklearn import metrics\n",
    "from sklearn.metrics import mean_absolute_error"
   ]
  },
  {
   "cell_type": "code",
   "execution_count": 49,
   "id": "4d5fd39f",
   "metadata": {},
   "outputs": [],
   "source": [
    "# convert column names to strings\n",
    "x_test.columns = x_test.columns.astype(str)\n",
    "\n",
    "# calculate predictions\n",
    "test_predictions = linear_model.predict(x_test)\n",
    "train_predictions = linear_model.predict(x_train)"
   ]
  },
  {
   "cell_type": "code",
   "execution_count": 44,
   "id": "f90bed8b",
   "metadata": {},
   "outputs": [
    {
     "name": "stdout",
     "output_type": "stream",
     "text": [
      "R2 for training set:  0.8258862906206832\n",
      "R2 for testing set:  0.8144710163139888\n"
     ]
    }
   ],
   "source": [
    "# calculate R2\n",
    "print(\"R2 for training set: \", linear_model.score(x_train, y_train))\n",
    "print(\"R2 for testing set: \", linear_model.score(x_test, y_test))"
   ]
  },
  {
   "cell_type": "markdown",
   "id": "e570741b",
   "metadata": {},
   "source": [
    "The two R2 scores calculated above indicate that the model performs fairly well. A perfectly performing model would have R2 scores of 1, so a score of 0.814 for the test data indicates that the model does a good job of predicting mpg."
   ]
  },
  {
   "cell_type": "code",
   "execution_count": 51,
   "id": "0b8b2b2b",
   "metadata": {},
   "outputs": [
    {
     "name": "stdout",
     "output_type": "stream",
     "text": [
      "RMSE for the training set:  3.093817888194767\n",
      "RMSE for the testing set:  3.9552841067473623\n"
     ]
    }
   ],
   "source": [
    "# Calculate RMSE\n",
    "print(\"RMSE for the training set: \", np.sqrt(metrics.mean_squared_error(y_train, train_predictions)))\n",
    "print(\"RMSE for the testing set: \", np.sqrt(metrics.mean_squared_error(y_test, test_predictions)))"
   ]
  },
  {
   "cell_type": "markdown",
   "id": "b464f7c6",
   "metadata": {},
   "source": [
    "The above RMSE values indicate how far off the typical predicted mpg is from the actual mpg. In the training set, mpg predicted values are off by about 3.1 from the actual. For the testing set, mpg predicted values are off by about 4 from the actual."
   ]
  },
  {
   "cell_type": "code",
   "execution_count": 55,
   "id": "09b78c46",
   "metadata": {},
   "outputs": [
    {
     "name": "stdout",
     "output_type": "stream",
     "text": [
      "MAE for the training set:  2.4111309412377855\n",
      "MAE for the testing set:  2.8705902427613736\n"
     ]
    }
   ],
   "source": [
    "# calculate MAE\n",
    "print(\"MAE for the training set: \", mean_absolute_error(y_train, train_predictions))\n",
    "print(\"MAE for the testing set: \", mean_absolute_error(y_test, test_predictions))"
   ]
  },
  {
   "cell_type": "markdown",
   "id": "7cb873f6",
   "metadata": {},
   "source": [
    "The above MAE values give another indication of how far off the actual mpg values are from the predicted values. MAE values do not consider the direction of the errors, which is why these values differ from the RMSE values found above."
   ]
  },
  {
   "cell_type": "markdown",
   "id": "a28bc7e1",
   "metadata": {},
   "source": [
    "### 8. Pick another regression model and repeat the previous two steps"
   ]
  },
  {
   "cell_type": "code",
   "execution_count": 57,
   "id": "52453fec",
   "metadata": {},
   "outputs": [],
   "source": [
    "# Train a Random Forest Regression model using the data\n",
    "\n",
    "# import the library\n",
    "from sklearn.ensemble import RandomForestRegressor\n",
    "\n",
    "# fit the regression to the data\n",
    "regressor = RandomForestRegressor()\n",
    "regressor.fit(x_train, y_train)\n",
    "\n",
    "# calculate predictions\n",
    "test_predictions = regressor.predict(x_test)\n",
    "train_predictions = regressor.predict(x_train)"
   ]
  },
  {
   "cell_type": "code",
   "execution_count": 58,
   "id": "301a3bd0",
   "metadata": {},
   "outputs": [
    {
     "name": "stdout",
     "output_type": "stream",
     "text": [
      "R2 for training set:  0.9788446746045131\n",
      "R2 for testing set:  0.902491106172402\n"
     ]
    }
   ],
   "source": [
    "# calculate R2\n",
    "print(\"R2 for training set: \", regressor.score(x_train, y_train))\n",
    "print(\"R2 for testing set: \", regressor.score(x_test, y_test))"
   ]
  },
  {
   "cell_type": "code",
   "execution_count": 59,
   "id": "42de7919",
   "metadata": {},
   "outputs": [
    {
     "name": "stdout",
     "output_type": "stream",
     "text": [
      "RMSE for the training set:  1.0784204556875217\n",
      "RMSE for the testing set:  2.8674372072462164\n"
     ]
    }
   ],
   "source": [
    "# Calculate RMSE\n",
    "print(\"RMSE for the training set: \", np.sqrt(metrics.mean_squared_error(y_train, train_predictions)))\n",
    "print(\"RMSE for the testing set: \", np.sqrt(metrics.mean_squared_error(y_test, test_predictions)))"
   ]
  },
  {
   "cell_type": "code",
   "execution_count": 60,
   "id": "1b73c714",
   "metadata": {},
   "outputs": [
    {
     "name": "stdout",
     "output_type": "stream",
     "text": [
      "MAE for the training set:  0.749094339622641\n",
      "MAE for the testing set:  1.9575374999999977\n"
     ]
    }
   ],
   "source": [
    "# calculate MAE\n",
    "print(\"MAE for the training set: \", mean_absolute_error(y_train, train_predictions))\n",
    "print(\"MAE for the testing set: \", mean_absolute_error(y_test, test_predictions))"
   ]
  },
  {
   "cell_type": "markdown",
   "id": "7c87f175",
   "metadata": {},
   "source": [
    "The Random Forest Regression model is a better fit for this data than a Linear Regression model. This is evident by higher R2 values and lower RMSE and MAE values."
   ]
  }
 ],
 "metadata": {
  "kernelspec": {
   "display_name": "Python 3 (ipykernel)",
   "language": "python",
   "name": "python3"
  },
  "language_info": {
   "codemirror_mode": {
    "name": "ipython",
    "version": 3
   },
   "file_extension": ".py",
   "mimetype": "text/x-python",
   "name": "python",
   "nbconvert_exporter": "python",
   "pygments_lexer": "ipython3",
   "version": "3.11.4"
  }
 },
 "nbformat": 4,
 "nbformat_minor": 5
}

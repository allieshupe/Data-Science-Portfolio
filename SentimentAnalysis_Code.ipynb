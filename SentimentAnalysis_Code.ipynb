{
 "cells": [
  {
   "cell_type": "markdown",
   "id": "2fd689ed",
   "metadata": {},
   "source": [
    "# Sentiment Analysis Using Movie Reviews"
   ]
  },
  {
   "cell_type": "markdown",
   "id": "15b013a5",
   "metadata": {},
   "source": [
    "### 1. Get the stemmed data using the same process you did in Week 3."
   ]
  },
  {
   "cell_type": "code",
   "execution_count": 8,
   "id": "4ee802fb",
   "metadata": {},
   "outputs": [],
   "source": [
    "# import the data\n",
    "import pandas as pd\n",
    "movie_df = pd.read_csv(\"labeledTrainData.tsv\", header=0, delimiter=\"\\t\", quoting=3)"
   ]
  },
  {
   "cell_type": "code",
   "execution_count": 9,
   "id": "65bb7d59",
   "metadata": {},
   "outputs": [],
   "source": [
    "# convert all to lowercase\n",
    "movie_df['review'] = movie_df['review'].str.lower()"
   ]
  },
  {
   "cell_type": "code",
   "execution_count": 10,
   "id": "9a863406",
   "metadata": {},
   "outputs": [],
   "source": [
    "# remove punctuation\n",
    "import unicodedata\n",
    "import sys\n",
    "\n",
    "punctuation = dict.fromkeys(\n",
    "    (i for i in range(sys.maxunicode)\n",
    "    if unicodedata.category(chr(i)).startswith('P')\n",
    "    ),\n",
    "    None\n",
    ")\n",
    "\n",
    "movie_df['review'] = [string.translate(punctuation) for string in movie_df['review']]"
   ]
  },
  {
   "cell_type": "code",
   "execution_count": 11,
   "id": "f3adc4f8",
   "metadata": {},
   "outputs": [
    {
     "name": "stderr",
     "output_type": "stream",
     "text": [
      "[nltk_data] Downloading package stopwords to\n",
      "[nltk_data]     C:\\Users\\allie\\AppData\\Roaming\\nltk_data...\n",
      "[nltk_data]   Package stopwords is already up-to-date!\n"
     ]
    }
   ],
   "source": [
    "# remove stopwords\n",
    "import nltk\n",
    "nltk.download('stopwords')\n",
    "from nltk.corpus import stopwords\n",
    "\n",
    "stop_words = stopwords.words('english')\n",
    "\n",
    "movie_df['review'] = movie_df['review'].apply(lambda x: ' '.join([word for word in x.split() if word not in (stop_words)]))"
   ]
  },
  {
   "cell_type": "code",
   "execution_count": 12,
   "id": "dc39a1d4",
   "metadata": {},
   "outputs": [],
   "source": [
    "# Load the stemmer library\n",
    "from nltk.stem.porter import PorterStemmer"
   ]
  },
  {
   "cell_type": "code",
   "execution_count": 13,
   "id": "89fe2ce2",
   "metadata": {},
   "outputs": [],
   "source": [
    "# Stem the review\n",
    "\n",
    "# create a stemmer object\n",
    "porter_stemmer = PorterStemmer()\n",
    "\n",
    "# Split sentences\n",
    "movie_df['review'] = movie_df['review'].apply(lambda x : filter(None,x.split(\" \")))\n",
    "\n",
    "# apply stemmer\n",
    "movie_df['review'] = movie_df['review'].apply(lambda x : [porter_stemmer.stem(y) for y in x])\n",
    "\n",
    "# rejoin sentences\n",
    "movie_df['review'] = movie_df['review'].apply(lambda x : \" \".join(x))"
   ]
  },
  {
   "cell_type": "code",
   "execution_count": 14,
   "id": "61ecb507",
   "metadata": {},
   "outputs": [
    {
     "data": {
      "text/html": [
       "<div>\n",
       "<style scoped>\n",
       "    .dataframe tbody tr th:only-of-type {\n",
       "        vertical-align: middle;\n",
       "    }\n",
       "\n",
       "    .dataframe tbody tr th {\n",
       "        vertical-align: top;\n",
       "    }\n",
       "\n",
       "    .dataframe thead th {\n",
       "        text-align: right;\n",
       "    }\n",
       "</style>\n",
       "<table border=\"1\" class=\"dataframe\">\n",
       "  <thead>\n",
       "    <tr style=\"text-align: right;\">\n",
       "      <th></th>\n",
       "      <th>id</th>\n",
       "      <th>sentiment</th>\n",
       "      <th>review</th>\n",
       "    </tr>\n",
       "  </thead>\n",
       "  <tbody>\n",
       "    <tr>\n",
       "      <th>0</th>\n",
       "      <td>\"5814_8\"</td>\n",
       "      <td>1</td>\n",
       "      <td>stuff go moment mj ive start listen music watc...</td>\n",
       "    </tr>\n",
       "    <tr>\n",
       "      <th>1</th>\n",
       "      <td>\"2381_9\"</td>\n",
       "      <td>1</td>\n",
       "      <td>classic war world timothi hine entertain film ...</td>\n",
       "    </tr>\n",
       "    <tr>\n",
       "      <th>2</th>\n",
       "      <td>\"7759_3\"</td>\n",
       "      <td>0</td>\n",
       "      <td>film start manag nichola bell give welcom inve...</td>\n",
       "    </tr>\n",
       "    <tr>\n",
       "      <th>3</th>\n",
       "      <td>\"3630_4\"</td>\n",
       "      <td>0</td>\n",
       "      <td>must assum prais film greatest film opera ever...</td>\n",
       "    </tr>\n",
       "    <tr>\n",
       "      <th>4</th>\n",
       "      <td>\"9495_8\"</td>\n",
       "      <td>1</td>\n",
       "      <td>superbl trashi wondrous unpretenti 80 exploit ...</td>\n",
       "    </tr>\n",
       "  </tbody>\n",
       "</table>\n",
       "</div>"
      ],
      "text/plain": [
       "         id  sentiment                                             review\n",
       "0  \"5814_8\"          1  stuff go moment mj ive start listen music watc...\n",
       "1  \"2381_9\"          1  classic war world timothi hine entertain film ...\n",
       "2  \"7759_3\"          0  film start manag nichola bell give welcom inve...\n",
       "3  \"3630_4\"          0  must assum prais film greatest film opera ever...\n",
       "4  \"9495_8\"          1  superbl trashi wondrous unpretenti 80 exploit ..."
      ]
     },
     "execution_count": 14,
     "metadata": {},
     "output_type": "execute_result"
    }
   ],
   "source": [
    "# show the first few rows of the data\n",
    "movie_df.head()"
   ]
  },
  {
   "cell_type": "markdown",
   "id": "89eaf1dd",
   "metadata": {},
   "source": [
    "### 2. Split this into a training and test set."
   ]
  },
  {
   "cell_type": "code",
   "execution_count": 15,
   "id": "f98efa12",
   "metadata": {},
   "outputs": [],
   "source": [
    "# import the library\n",
    "from sklearn.model_selection import train_test_split\n",
    "train_df, test_df = train_test_split(movie_df, test_size = 0.2, random_state = 1)"
   ]
  },
  {
   "cell_type": "code",
   "execution_count": 16,
   "id": "c28b9ac3",
   "metadata": {},
   "outputs": [
    {
     "data": {
      "text/html": [
       "<div>\n",
       "<style scoped>\n",
       "    .dataframe tbody tr th:only-of-type {\n",
       "        vertical-align: middle;\n",
       "    }\n",
       "\n",
       "    .dataframe tbody tr th {\n",
       "        vertical-align: top;\n",
       "    }\n",
       "\n",
       "    .dataframe thead th {\n",
       "        text-align: right;\n",
       "    }\n",
       "</style>\n",
       "<table border=\"1\" class=\"dataframe\">\n",
       "  <thead>\n",
       "    <tr style=\"text-align: right;\">\n",
       "      <th></th>\n",
       "      <th>id</th>\n",
       "      <th>sentiment</th>\n",
       "      <th>review</th>\n",
       "    </tr>\n",
       "  </thead>\n",
       "  <tbody>\n",
       "    <tr>\n",
       "      <th>21492</th>\n",
       "      <td>\"2161_10\"</td>\n",
       "      <td>1</td>\n",
       "      <td>mani us wish could throw away social cultur ob...</td>\n",
       "    </tr>\n",
       "    <tr>\n",
       "      <th>9488</th>\n",
       "      <td>\"4950_8\"</td>\n",
       "      <td>1</td>\n",
       "      <td>know end movi import cast direct act nice see ...</td>\n",
       "    </tr>\n",
       "    <tr>\n",
       "      <th>16933</th>\n",
       "      <td>\"4942_7\"</td>\n",
       "      <td>1</td>\n",
       "      <td>admit first half hour movi basic lost mildli a...</td>\n",
       "    </tr>\n",
       "    <tr>\n",
       "      <th>12604</th>\n",
       "      <td>\"668_7\"</td>\n",
       "      <td>1</td>\n",
       "      <td>watch last wave school fine art librari intrig...</td>\n",
       "    </tr>\n",
       "    <tr>\n",
       "      <th>8222</th>\n",
       "      <td>\"8689_7\"</td>\n",
       "      <td>1</td>\n",
       "      <td>perfect cast fewperson drama simon dead someho...</td>\n",
       "    </tr>\n",
       "  </tbody>\n",
       "</table>\n",
       "</div>"
      ],
      "text/plain": [
       "              id  sentiment                                             review\n",
       "21492  \"2161_10\"          1  mani us wish could throw away social cultur ob...\n",
       "9488    \"4950_8\"          1  know end movi import cast direct act nice see ...\n",
       "16933   \"4942_7\"          1  admit first half hour movi basic lost mildli a...\n",
       "12604    \"668_7\"          1  watch last wave school fine art librari intrig...\n",
       "8222    \"8689_7\"          1  perfect cast fewperson drama simon dead someho..."
      ]
     },
     "execution_count": 16,
     "metadata": {},
     "output_type": "execute_result"
    }
   ],
   "source": [
    "# show the first few rows of the test data\n",
    "test_df.head()"
   ]
  },
  {
   "cell_type": "code",
   "execution_count": 17,
   "id": "a3509c90",
   "metadata": {},
   "outputs": [
    {
     "data": {
      "text/html": [
       "<div>\n",
       "<style scoped>\n",
       "    .dataframe tbody tr th:only-of-type {\n",
       "        vertical-align: middle;\n",
       "    }\n",
       "\n",
       "    .dataframe tbody tr th {\n",
       "        vertical-align: top;\n",
       "    }\n",
       "\n",
       "    .dataframe thead th {\n",
       "        text-align: right;\n",
       "    }\n",
       "</style>\n",
       "<table border=\"1\" class=\"dataframe\">\n",
       "  <thead>\n",
       "    <tr style=\"text-align: right;\">\n",
       "      <th></th>\n",
       "      <th>id</th>\n",
       "      <th>sentiment</th>\n",
       "      <th>review</th>\n",
       "    </tr>\n",
       "  </thead>\n",
       "  <tbody>\n",
       "    <tr>\n",
       "      <th>6655</th>\n",
       "      <td>\"8746_2\"</td>\n",
       "      <td>0</td>\n",
       "      <td>obviou attack microsoft made peopl dont appear...</td>\n",
       "    </tr>\n",
       "    <tr>\n",
       "      <th>6085</th>\n",
       "      <td>\"1741_9\"</td>\n",
       "      <td>1</td>\n",
       "      <td>dramat film whole sens word tell tail greec li...</td>\n",
       "    </tr>\n",
       "    <tr>\n",
       "      <th>21848</th>\n",
       "      <td>\"2430_10\"</td>\n",
       "      <td>1</td>\n",
       "      <td>casper friendli ghost short childhood rewatch ...</td>\n",
       "    </tr>\n",
       "    <tr>\n",
       "      <th>5106</th>\n",
       "      <td>\"8797_8\"</td>\n",
       "      <td>1</td>\n",
       "      <td>great idea 11 stori 11 septemb 11 director dif...</td>\n",
       "    </tr>\n",
       "    <tr>\n",
       "      <th>21856</th>\n",
       "      <td>\"799_2\"</td>\n",
       "      <td>0</td>\n",
       "      <td>way concept behind storylin rather interest bl...</td>\n",
       "    </tr>\n",
       "  </tbody>\n",
       "</table>\n",
       "</div>"
      ],
      "text/plain": [
       "              id  sentiment                                             review\n",
       "6655    \"8746_2\"          0  obviou attack microsoft made peopl dont appear...\n",
       "6085    \"1741_9\"          1  dramat film whole sens word tell tail greec li...\n",
       "21848  \"2430_10\"          1  casper friendli ghost short childhood rewatch ...\n",
       "5106    \"8797_8\"          1  great idea 11 stori 11 septemb 11 director dif...\n",
       "21856    \"799_2\"          0  way concept behind storylin rather interest bl..."
      ]
     },
     "execution_count": 17,
     "metadata": {},
     "output_type": "execute_result"
    }
   ],
   "source": [
    "# show the first few rows of the training data\n",
    "train_df.head()"
   ]
  },
  {
   "cell_type": "code",
   "execution_count": 20,
   "id": "7b3afc8a",
   "metadata": {},
   "outputs": [
    {
     "name": "stdout",
     "output_type": "stream",
     "text": [
      "Test data dimensions: (5000, 3)\n",
      "Training data dimensions: (20000, 3)\n"
     ]
    }
   ],
   "source": [
    "# show the dimensions of each data set to ensure an accurate 20% split\n",
    "print(\"Test data dimensions:\", test_df.shape)\n",
    "print(\"Training data dimensions:\", train_df.shape)"
   ]
  },
  {
   "cell_type": "markdown",
   "id": "74ded7a1",
   "metadata": {},
   "source": [
    "### 3. Fit and apply the tf-idf vectorization to the training set."
   ]
  },
  {
   "cell_type": "code",
   "execution_count": 21,
   "id": "c42c73b4",
   "metadata": {},
   "outputs": [],
   "source": [
    "# import the library\n",
    "from sklearn.feature_extraction.text import TfidfVectorizer"
   ]
  },
  {
   "cell_type": "code",
   "execution_count": 23,
   "id": "fa3dfbf5",
   "metadata": {},
   "outputs": [],
   "source": [
    "# Create the tf-idf object\n",
    "tfidf = TfidfVectorizer()\n",
    "\n",
    "# fit the vectorization to the training set\n",
    "train_matrix = tfidf.fit_transform(train_df['review'])"
   ]
  },
  {
   "cell_type": "markdown",
   "id": "ddb627b4",
   "metadata": {},
   "source": [
    "### 4. Apply but DO NOT FIT the tf-idf vectorization to the test set (Why?)."
   ]
  },
  {
   "cell_type": "markdown",
   "id": "e613685a",
   "metadata": {},
   "source": [
    "We do not want to use the testing data set to train the model since that could possibly lead to over-stated accuracy when the model is tested."
   ]
  },
  {
   "cell_type": "code",
   "execution_count": 25,
   "id": "37290019",
   "metadata": {},
   "outputs": [],
   "source": [
    "# apply the tf-idf vectorization to the test set\n",
    "test_matrix = tfidf.transform(test_df['review'])"
   ]
  },
  {
   "cell_type": "markdown",
   "id": "efd81903",
   "metadata": {},
   "source": [
    "### 5. Train a logistic regression using the training data."
   ]
  },
  {
   "cell_type": "code",
   "execution_count": 26,
   "id": "ddbf38cd",
   "metadata": {},
   "outputs": [],
   "source": [
    "# import the library\n",
    "from sklearn.linear_model import LogisticRegression"
   ]
  },
  {
   "cell_type": "code",
   "execution_count": 27,
   "id": "87909a7d",
   "metadata": {},
   "outputs": [],
   "source": [
    "# create the logistic regression object\n",
    "logit = LogisticRegression()"
   ]
  },
  {
   "cell_type": "code",
   "execution_count": 29,
   "id": "9c024d87",
   "metadata": {},
   "outputs": [
    {
     "data": {
      "text/html": [
       "<style>#sk-container-id-1 {color: black;}#sk-container-id-1 pre{padding: 0;}#sk-container-id-1 div.sk-toggleable {background-color: white;}#sk-container-id-1 label.sk-toggleable__label {cursor: pointer;display: block;width: 100%;margin-bottom: 0;padding: 0.3em;box-sizing: border-box;text-align: center;}#sk-container-id-1 label.sk-toggleable__label-arrow:before {content: \"▸\";float: left;margin-right: 0.25em;color: #696969;}#sk-container-id-1 label.sk-toggleable__label-arrow:hover:before {color: black;}#sk-container-id-1 div.sk-estimator:hover label.sk-toggleable__label-arrow:before {color: black;}#sk-container-id-1 div.sk-toggleable__content {max-height: 0;max-width: 0;overflow: hidden;text-align: left;background-color: #f0f8ff;}#sk-container-id-1 div.sk-toggleable__content pre {margin: 0.2em;color: black;border-radius: 0.25em;background-color: #f0f8ff;}#sk-container-id-1 input.sk-toggleable__control:checked~div.sk-toggleable__content {max-height: 200px;max-width: 100%;overflow: auto;}#sk-container-id-1 input.sk-toggleable__control:checked~label.sk-toggleable__label-arrow:before {content: \"▾\";}#sk-container-id-1 div.sk-estimator input.sk-toggleable__control:checked~label.sk-toggleable__label {background-color: #d4ebff;}#sk-container-id-1 div.sk-label input.sk-toggleable__control:checked~label.sk-toggleable__label {background-color: #d4ebff;}#sk-container-id-1 input.sk-hidden--visually {border: 0;clip: rect(1px 1px 1px 1px);clip: rect(1px, 1px, 1px, 1px);height: 1px;margin: -1px;overflow: hidden;padding: 0;position: absolute;width: 1px;}#sk-container-id-1 div.sk-estimator {font-family: monospace;background-color: #f0f8ff;border: 1px dotted black;border-radius: 0.25em;box-sizing: border-box;margin-bottom: 0.5em;}#sk-container-id-1 div.sk-estimator:hover {background-color: #d4ebff;}#sk-container-id-1 div.sk-parallel-item::after {content: \"\";width: 100%;border-bottom: 1px solid gray;flex-grow: 1;}#sk-container-id-1 div.sk-label:hover label.sk-toggleable__label {background-color: #d4ebff;}#sk-container-id-1 div.sk-serial::before {content: \"\";position: absolute;border-left: 1px solid gray;box-sizing: border-box;top: 0;bottom: 0;left: 50%;z-index: 0;}#sk-container-id-1 div.sk-serial {display: flex;flex-direction: column;align-items: center;background-color: white;padding-right: 0.2em;padding-left: 0.2em;position: relative;}#sk-container-id-1 div.sk-item {position: relative;z-index: 1;}#sk-container-id-1 div.sk-parallel {display: flex;align-items: stretch;justify-content: center;background-color: white;position: relative;}#sk-container-id-1 div.sk-item::before, #sk-container-id-1 div.sk-parallel-item::before {content: \"\";position: absolute;border-left: 1px solid gray;box-sizing: border-box;top: 0;bottom: 0;left: 50%;z-index: -1;}#sk-container-id-1 div.sk-parallel-item {display: flex;flex-direction: column;z-index: 1;position: relative;background-color: white;}#sk-container-id-1 div.sk-parallel-item:first-child::after {align-self: flex-end;width: 50%;}#sk-container-id-1 div.sk-parallel-item:last-child::after {align-self: flex-start;width: 50%;}#sk-container-id-1 div.sk-parallel-item:only-child::after {width: 0;}#sk-container-id-1 div.sk-dashed-wrapped {border: 1px dashed gray;margin: 0 0.4em 0.5em 0.4em;box-sizing: border-box;padding-bottom: 0.4em;background-color: white;}#sk-container-id-1 div.sk-label label {font-family: monospace;font-weight: bold;display: inline-block;line-height: 1.2em;}#sk-container-id-1 div.sk-label-container {text-align: center;}#sk-container-id-1 div.sk-container {/* jupyter's `normalize.less` sets `[hidden] { display: none; }` but bootstrap.min.css set `[hidden] { display: none !important; }` so we also need the `!important` here to be able to override the default hidden behavior on the sphinx rendered scikit-learn.org. See: https://github.com/scikit-learn/scikit-learn/issues/21755 */display: inline-block !important;position: relative;}#sk-container-id-1 div.sk-text-repr-fallback {display: none;}</style><div id=\"sk-container-id-1\" class=\"sk-top-container\"><div class=\"sk-text-repr-fallback\"><pre>LogisticRegression()</pre><b>In a Jupyter environment, please rerun this cell to show the HTML representation or trust the notebook. <br />On GitHub, the HTML representation is unable to render, please try loading this page with nbviewer.org.</b></div><div class=\"sk-container\" hidden><div class=\"sk-item\"><div class=\"sk-estimator sk-toggleable\"><input class=\"sk-toggleable__control sk-hidden--visually\" id=\"sk-estimator-id-1\" type=\"checkbox\" checked><label for=\"sk-estimator-id-1\" class=\"sk-toggleable__label sk-toggleable__label-arrow\">LogisticRegression</label><div class=\"sk-toggleable__content\"><pre>LogisticRegression()</pre></div></div></div></div></div>"
      ],
      "text/plain": [
       "LogisticRegression()"
      ]
     },
     "execution_count": 29,
     "metadata": {},
     "output_type": "execute_result"
    }
   ],
   "source": [
    "# train the regression using the training data\n",
    "logit.fit(train_matrix, train_df['sentiment'])"
   ]
  },
  {
   "cell_type": "markdown",
   "id": "e7e32392",
   "metadata": {},
   "source": [
    "### 6. Find the model accuracy on test set."
   ]
  },
  {
   "cell_type": "code",
   "execution_count": 30,
   "id": "1d74b170",
   "metadata": {},
   "outputs": [],
   "source": [
    "# predict sentiment values on the test data using the model\n",
    "test_pred = logit.predict(test_matrix)"
   ]
  },
  {
   "cell_type": "code",
   "execution_count": 32,
   "id": "c0b4479e",
   "metadata": {},
   "outputs": [
    {
     "data": {
      "text/html": [
       "<div>\n",
       "<style scoped>\n",
       "    .dataframe tbody tr th:only-of-type {\n",
       "        vertical-align: middle;\n",
       "    }\n",
       "\n",
       "    .dataframe tbody tr th {\n",
       "        vertical-align: top;\n",
       "    }\n",
       "\n",
       "    .dataframe thead th {\n",
       "        text-align: right;\n",
       "    }\n",
       "</style>\n",
       "<table border=\"1\" class=\"dataframe\">\n",
       "  <thead>\n",
       "    <tr style=\"text-align: right;\">\n",
       "      <th></th>\n",
       "      <th>predicted sentiment</th>\n",
       "    </tr>\n",
       "  </thead>\n",
       "  <tbody>\n",
       "    <tr>\n",
       "      <th>0</th>\n",
       "      <td>1</td>\n",
       "    </tr>\n",
       "    <tr>\n",
       "      <th>1</th>\n",
       "      <td>1</td>\n",
       "    </tr>\n",
       "    <tr>\n",
       "      <th>2</th>\n",
       "      <td>0</td>\n",
       "    </tr>\n",
       "    <tr>\n",
       "      <th>3</th>\n",
       "      <td>1</td>\n",
       "    </tr>\n",
       "    <tr>\n",
       "      <th>4</th>\n",
       "      <td>1</td>\n",
       "    </tr>\n",
       "  </tbody>\n",
       "</table>\n",
       "</div>"
      ],
      "text/plain": [
       "   predicted sentiment\n",
       "0                    1\n",
       "1                    1\n",
       "2                    0\n",
       "3                    1\n",
       "4                    1"
      ]
     },
     "execution_count": 32,
     "metadata": {},
     "output_type": "execute_result"
    }
   ],
   "source": [
    "# show the first few predictions\n",
    "pd.DataFrame(test_pred, columns=['predicted sentiment']).head()"
   ]
  },
  {
   "cell_type": "code",
   "execution_count": 33,
   "id": "3a00f535",
   "metadata": {},
   "outputs": [],
   "source": [
    "# join the original test data with the predictions\n",
    "test_df['predicted sentiment'] = test_pred"
   ]
  },
  {
   "cell_type": "code",
   "execution_count": 36,
   "id": "c89f94a0",
   "metadata": {},
   "outputs": [
    {
     "name": "stdout",
     "output_type": "stream",
     "text": [
      "Model accuracy: 0.8864\n"
     ]
    }
   ],
   "source": [
    "# calculate accuracy\n",
    "import numpy as np\n",
    "test_df['check'] = np.where((test_df['sentiment']==test_df['predicted sentiment']),1,0)\n",
    "print(\"Model accuracy:\", len(test_df[test_df['check']==1])/len(test_df))"
   ]
  },
  {
   "cell_type": "markdown",
   "id": "4a7a48e3",
   "metadata": {},
   "source": [
    "### 7. Create a confusion matrix for the test set predictions."
   ]
  },
  {
   "cell_type": "code",
   "execution_count": 41,
   "id": "733a6c70",
   "metadata": {},
   "outputs": [],
   "source": [
    "# import the libraries\n",
    "import seaborn as sns\n",
    "from sklearn.metrics import confusion_matrix\n",
    "import matplotlib.pyplot as plt"
   ]
  },
  {
   "cell_type": "code",
   "execution_count": 39,
   "id": "9ab6eb50",
   "metadata": {},
   "outputs": [],
   "source": [
    "# create the confusion matrix\n",
    "c_matrix = confusion_matrix(test_df['sentiment'], test_df['predicted sentiment'])"
   ]
  },
  {
   "cell_type": "code",
   "execution_count": 40,
   "id": "27f42410",
   "metadata": {},
   "outputs": [],
   "source": [
    "# create a dataframe from the confusion matrix\n",
    "confusion_df = pd.DataFrame(c_matrix)"
   ]
  },
  {
   "cell_type": "code",
   "execution_count": 42,
   "id": "7c967713",
   "metadata": {},
   "outputs": [
    {
     "data": {
      "image/png": "[encoded data removed]",
      "text/plain": [
       "<Figure size 640x480 with 1 Axes>"
      ]
     },
     "metadata": {},
     "output_type": "display_data"
    }
   ],
   "source": [
    "# create a heatmap\n",
    "sns.heatmap(confusion_df, annot = True, cbar = None, cmap = \"Blues\")\n",
    "plt.ylabel('True')\n",
    "plt.xlabel('Predicted')\n",
    "plt.show()"
   ]
  },
  {
   "cell_type": "markdown",
   "id": "ca74c81d",
   "metadata": {},
   "source": [
    "### 8. Get the precision, recall, and F1-score for the test set predictions."
   ]
  },
  {
   "cell_type": "code",
   "execution_count": 44,
   "id": "c6aacc9b",
   "metadata": {},
   "outputs": [],
   "source": [
    "# import the library\n",
    "from sklearn.model_selection import cross_val_score"
   ]
  },
  {
   "cell_type": "code",
   "execution_count": 47,
   "id": "2e881406",
   "metadata": {},
   "outputs": [
    {
     "data": {
      "text/plain": [
       "array([0.84310019, 0.83883495, 0.84571429, 0.82189239, 0.89049587])"
      ]
     },
     "execution_count": 47,
     "metadata": {},
     "output_type": "execute_result"
    }
   ],
   "source": [
    "# get the precision\n",
    "cross_val_score(logit, test_matrix, test_df['sentiment'], scoring=\"precision\")"
   ]
  },
  {
   "cell_type": "code",
   "execution_count": 48,
   "id": "09e8e234",
   "metadata": {},
   "outputs": [
    {
     "data": {
      "text/plain": [
       "array([0.892     , 0.864     , 0.88977956, 0.88777555, 0.86372745])"
      ]
     },
     "execution_count": 48,
     "metadata": {},
     "output_type": "execute_result"
    }
   ],
   "source": [
    "# get the recall\n",
    "cross_val_score(logit, test_matrix, test_df['sentiment'], scoring=\"recall\")"
   ]
  },
  {
   "cell_type": "code",
   "execution_count": 49,
   "id": "ad49b4cf",
   "metadata": {},
   "outputs": [
    {
     "data": {
      "text/plain": [
       "array([0.86686103, 0.85123153, 0.8671875 , 0.85356455, 0.87690743])"
      ]
     },
     "execution_count": 49,
     "metadata": {},
     "output_type": "execute_result"
    }
   ],
   "source": [
    "# get the F1-score\n",
    "cross_val_score(logit, test_matrix, test_df['sentiment'], scoring=\"f1\")"
   ]
  },
  {
   "cell_type": "markdown",
   "id": "2776d77d",
   "metadata": {},
   "source": [
    "### 9. Create a ROC curve for the test set."
   ]
  },
  {
   "cell_type": "code",
   "execution_count": 50,
   "id": "941c17e1",
   "metadata": {},
   "outputs": [],
   "source": [
    "# import the library\n",
    "from sklearn.metrics import roc_curve, roc_auc_score"
   ]
  },
  {
   "cell_type": "code",
   "execution_count": 51,
   "id": "a26575f6",
   "metadata": {},
   "outputs": [],
   "source": [
    "# calculate predicted probabilities\n",
    "target_probabilities = logit.predict_proba(test_matrix)[:,1]"
   ]
  },
  {
   "cell_type": "code",
   "execution_count": 52,
   "id": "9b9face8",
   "metadata": {},
   "outputs": [],
   "source": [
    "# calculate false positives and true positives\n",
    "false_positive_rate, true_positive_rate, threshold = roc_curve(test_df['sentiment'], target_probabilities)"
   ]
  },
  {
   "cell_type": "code",
   "execution_count": 53,
   "id": "1c8ab884",
   "metadata": {},
   "outputs": [
    {
     "data": {
      "image/png": "[encoded data removed]",
      "text/plain": [
       "<Figure size 640x480 with 1 Axes>"
      ]
     },
     "metadata": {},
     "output_type": "display_data"
    }
   ],
   "source": [
    "# plot ROC curve\n",
    "plt.plot(false_positive_rate, true_positive_rate)\n",
    "plt.plot([0,1], ls=\"--\")\n",
    "plt.plot([0,0], [1,0], c=\".7\")\n",
    "plt.plot([1,1], c=\".7\")\n",
    "plt.ylabel('True Positive Rate')\n",
    "plt.xlabel('False Positive Rate')\n",
    "plt.show()"
   ]
  }
 ],
 "metadata": {
  "kernelspec": {
   "display_name": "Python 3 (ipykernel)",
   "language": "python",
   "name": "python3"
  },
  "language_info": {
   "codemirror_mode": {
    "name": "ipython",
    "version": 3
   },
   "file_extension": ".py",
   "mimetype": "text/x-python",
   "name": "python",
   "nbconvert_exporter": "python",
   "pygments_lexer": "ipython3",
   "version": "3.11.4"
  }
 },
 "nbformat": 4,
 "nbformat_minor": 5
}
